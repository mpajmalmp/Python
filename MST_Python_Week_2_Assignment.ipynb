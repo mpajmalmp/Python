{
  "nbformat": 4,
  "nbformat_minor": 0,
  "metadata": {
    "colab": {
      "provenance": []
    },
    "kernelspec": {
      "name": "python3",
      "display_name": "Python 3"
    },
    "language_info": {
      "name": "python"
    }
  },
  "cells": [
    {
      "cell_type": "code",
      "execution_count": 1,
      "metadata": {
        "colab": {
          "base_uri": "https://localhost:8080/"
        },
        "id": "xQ1g_jfh_ZoG",
        "outputId": "6f113d5b-0ec4-4f48-c25f-b3eea902a1de"
      },
      "outputs": [
        {
          "output_type": "stream",
          "name": "stdout",
          "text": [
            "This is a guess game\n",
            "I am thinking a number between 1 to 10, Try to guess it. Enter your guess: 4\n",
            "Too low! Try again\n",
            "I am thinking a number between 1 to 10, Try to guess it. Enter your guess: 6\n",
            "Congratulations! You guessed the number correctly!\n"
          ]
        }
      ],
      "source": [
        "import random\n",
        "secretnumber = random.randint(1,10)\n",
        "\n",
        "print(\"This is a guess game\")\n",
        "while True:\n",
        "  guess = int(input(\"I am thinking a number between 1 to 10, Try to guess it. Enter your guess: \"))\n",
        "  if guess == secretnumber :\n",
        "    print (\"Congratulations! You guessed the number correctly!\")\n",
        "    break\n",
        "  elif guess > secretnumber :\n",
        "    print (\"Too high! Try again\")\n",
        "  else:\n",
        "    print (\"Too low! Try again\")"
      ]
    },
    {
      "cell_type": "code",
      "source": [
        "def factorial(n):\n",
        "  result = 1\n",
        "  for i in range(1,n+1):\n",
        "    result *= i\n",
        "  return result\n",
        "\n",
        "number = int(input(\"Enter a +ve integer: \"))\n",
        "if number < 0 :\n",
        "  print (\"Please enter a positive integer\")\n",
        "else:\n",
        "  print (f\"The factorial of {number} is {factorial(number)}\")\n",
        "\n"
      ],
      "metadata": {
        "colab": {
          "base_uri": "https://localhost:8080/"
        },
        "id": "EQUToj8qBumf",
        "outputId": "1542067a-464e-4c71-a09c-3b258984ae38"
      },
      "execution_count": 4,
      "outputs": [
        {
          "output_type": "stream",
          "name": "stdout",
          "text": [
            "Enter a +ve integer: 5\n",
            "The factorial of 5 is 120\n"
          ]
        }
      ]
    },
    {
      "cell_type": "code",
      "source": [
        "def checkphoto(L,W,H):\n",
        "  if W < L or H < L :\n",
        "    print (\"UPLOAD ANOTHER\")\n",
        "  elif W == H :\n",
        "    print (\"ACCEPTED\")\n",
        "  else:\n",
        "    print (\"CROP IT\")\n",
        "\n",
        "L = int(input(\"Enter the minimum dimension L: \"))\n",
        "N = int(input(\"Enter the number of photos N: \"))\n",
        "\n",
        "for _ in range(N):\n",
        "  W = int(input(\"Enter the width of the photo: \"))\n",
        "  H = int(input(\"Enter the height of the photo: \"))\n",
        "  checkphoto(L,W,H)"
      ],
      "metadata": {
        "colab": {
          "base_uri": "https://localhost:8080/"
        },
        "id": "LzyiZ0NFDZ75",
        "outputId": "b2f88361-3104-49ce-95d6-c6b6a43261de"
      },
      "execution_count": 11,
      "outputs": [
        {
          "output_type": "stream",
          "name": "stdout",
          "text": [
            "Enter the minimum dimension L: 100\n",
            "Enter the number of photos N: 5\n",
            "Enter the width of the photo: 100\n",
            "Enter the height of the photo: 50\n",
            "UPLOAD ANOTHER\n",
            "Enter the width of the photo: 50\n",
            "Enter the height of the photo: 100\n",
            "UPLOAD ANOTHER\n",
            "Enter the width of the photo: 100\n",
            "Enter the height of the photo: 100\n",
            "ACCEPTED\n",
            "Enter the width of the photo: 150\n",
            "Enter the height of the photo: 150\n",
            "ACCEPTED\n",
            "Enter the width of the photo: 50\n",
            "Enter the height of the photo: 100\n",
            "UPLOAD ANOTHER\n"
          ]
        }
      ]
    },
    {
      "cell_type": "code",
      "source": [],
      "metadata": {
        "id": "M6fFm1vfFWw4"
      },
      "execution_count": null,
      "outputs": []
    }
  ]
}