{
  "nbformat": 4,
  "nbformat_minor": 0,
  "metadata": {
    "colab": {
      "provenance": []
    },
    "kernelspec": {
      "name": "python3",
      "display_name": "Python 3"
    },
    "language_info": {
      "name": "python"
    }
  },
  "cells": [
    {
      "cell_type": "code",
      "execution_count": 7,
      "metadata": {
        "colab": {
          "base_uri": "https://localhost:8080/"
        },
        "id": "sd7HFZhFC8UA",
        "outputId": "89e96694-92b0-4dc4-b105-7df359912d48"
      },
      "outputs": [
        {
          "output_type": "stream",
          "name": "stdout",
          "text": [
            "Runner up score is : 89\n"
          ]
        }
      ],
      "source": [
        "scores = [65,74,89,90,80,68,81]\n",
        "scores.sort()\n",
        "print (\"Runner up score is :\", scores[-2])"
      ]
    },
    {
      "cell_type": "code",
      "source": [
        "D = {\"John\" : [25,32,43], \"Peter\" : [87,55,96], \"Ram\" : [58,55,43], \"Meena\" : [63,79,85]}\n",
        "name = input (\"Enter a name : \")\n",
        "if name in D :\n",
        "  D[name] = [88,77,99]\n",
        "  print (\"Updated dictionary : \",D)\n",
        "else:\n",
        "  print (\"Name not found\")\n"
      ],
      "metadata": {
        "colab": {
          "base_uri": "https://localhost:8080/"
        },
        "id": "GDyu_eoaDc_J",
        "outputId": "767e0db3-0d37-4d7f-c841-0deb5f52bd0e"
      },
      "execution_count": 9,
      "outputs": [
        {
          "output_type": "stream",
          "name": "stdout",
          "text": [
            "Enter a name : Peter\n",
            "Updated dictionary :  {'John': [25, 32, 43], 'Peter': [88, 77, 99], 'Ram': [58, 55, 43], 'Meena': [63, 79, 85]}\n"
          ]
        }
      ]
    },
    {
      "cell_type": "code",
      "source": [
        "age = int(input(\"Enter your age: \"))\n",
        "gender = input(\"Enter your gender (male/female): \").lower()\n",
        "\n",
        "if age < 5 or age > 60:\n",
        "  ticketprice = 0\n",
        "elif (age >= 5) and (age <= 12):\n",
        "  ticketprice = 10\n",
        "else:\n",
        "  ticketprice = 50\n",
        "\n",
        "if gender == \"female\" :\n",
        "  ticketprice = ticketprice / 2\n",
        "\n",
        "print (f\"Your ticket price is Rs.{ticketprice} \")"
      ],
      "metadata": {
        "colab": {
          "base_uri": "https://localhost:8080/"
        },
        "id": "AvacxWKDFUzE",
        "outputId": "af18d0ed-fa7b-476b-a56f-931afd49f7a4"
      },
      "execution_count": 10,
      "outputs": [
        {
          "output_type": "stream",
          "name": "stdout",
          "text": [
            "Enter your age: 20\n",
            "Enter your gender (male/female): female\n",
            "Your ticket price is Rs.25.0 \n"
          ]
        }
      ]
    },
    {
      "cell_type": "code",
      "source": [],
      "metadata": {
        "id": "lUPAAXODJhwK"
      },
      "execution_count": null,
      "outputs": []
    }
  ]
}