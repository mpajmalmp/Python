{
  "nbformat": 4,
  "nbformat_minor": 0,
  "metadata": {
    "colab": {
      "provenance": []
    },
    "kernelspec": {
      "name": "python3",
      "display_name": "Python 3"
    },
    "language_info": {
      "name": "python"
    }
  },
  "cells": [
    {
      "cell_type": "code",
      "execution_count": 2,
      "metadata": {
        "colab": {
          "base_uri": "https://localhost:8080/"
        },
        "id": "lvzf2fETznrU",
        "outputId": "94e263cb-bf7a-455e-aa23-33e249e1d2ec"
      },
      "outputs": [
        {
          "output_type": "stream",
          "name": "stdout",
          "text": [
            "45\n"
          ]
        }
      ],
      "source": [
        "List = [1,2,3,4,5,6,7,8,9,]\n",
        "print (sum(List))"
      ]
    },
    {
      "cell_type": "code",
      "source": [
        "s = \"How are you\"\n",
        "length = len(s)\n",
        "print (length)\n",
        "half = length // 2\n",
        "print (s[:half])"
      ],
      "metadata": {
        "colab": {
          "base_uri": "https://localhost:8080/"
        },
        "id": "sZr_Lr990FPl",
        "outputId": "3af95276-6341-48b7-fbb6-6910d750a878"
      },
      "execution_count": 6,
      "outputs": [
        {
          "output_type": "stream",
          "name": "stdout",
          "text": [
            "11\n",
            "How a\n"
          ]
        }
      ]
    },
    {
      "cell_type": "code",
      "source": [
        "tuple1 = (78,45,32,19,82,77,40,39)\n",
        "list1 = list(tuple1)\n",
        "list1[2] = 100\n",
        "tuple2 = tuple(list1)\n",
        "print (tuple2)"
      ],
      "metadata": {
        "colab": {
          "base_uri": "https://localhost:8080/"
        },
        "id": "buEI3ugi03mm",
        "outputId": "883e04f7-0e82-41f2-9028-b1633ecf2855"
      },
      "execution_count": 7,
      "outputs": [
        {
          "output_type": "stream",
          "name": "stdout",
          "text": [
            "(78, 45, 100, 19, 82, 77, 40, 39)\n"
          ]
        }
      ]
    },
    {
      "cell_type": "code",
      "source": [
        "listA = [19,32,10,55,31,32,94,29,10,65,77,40,40]\n",
        "listA[9] = 300\n",
        "listA.remove(32)\n",
        "while 40 in   listA:\n",
        "  listA.remove(40)\n",
        "del listA[5]\n",
        "listA.insert(2, 200)\n",
        "print (listA)\n",
        "print (\"length is : \",len(listA))\n",
        "print (\"Maximum value is : \",max(listA))\n",
        "print (\"Sum of all elements is : \", sum(listA))\n"
      ],
      "metadata": {
        "colab": {
          "base_uri": "https://localhost:8080/"
        },
        "id": "GyifY9FZ11lu",
        "outputId": "601ce515-f59f-4600-daed-3db844130edc"
      },
      "execution_count": 9,
      "outputs": [
        {
          "output_type": "stream",
          "name": "stdout",
          "text": [
            "[19, 10, 200, 55, 31, 32, 29, 10, 300, 77]\n",
            "length is :  10\n",
            "Maximum value is :  300\n",
            "Sum of all elements is :  763\n"
          ]
        }
      ]
    },
    {
      "cell_type": "code",
      "source": [
        "string = \"The day has been long\"\n",
        "string = string[:4] + string[5:]\n",
        "print (\" \".join([string]*4))\n",
        "print ((string + \"\\n\") * 3, end = \"\")\n",
        "string = string[:7] + \"A\" + string[8:]\n",
        "print (string[4:16])\n",
        "print (string)\n",
        "print (len(string))\n"
      ],
      "metadata": {
        "colab": {
          "base_uri": "https://localhost:8080/"
        },
        "id": "bsmqwdzh4N9U",
        "outputId": "56482900-c835-4e74-9a55-eaf1a0d45dc0"
      },
      "execution_count": 10,
      "outputs": [
        {
          "output_type": "stream",
          "name": "stdout",
          "text": [
            "The ay has been long The ay has been long The ay has been long The ay has been long\n",
            "The ay has been long\n",
            "The ay has been long\n",
            "The ay has been long\n",
            "ay Aas been \n",
            "The ay Aas been long\n",
            "20\n"
          ]
        }
      ]
    },
    {
      "cell_type": "code",
      "source": [],
      "metadata": {
        "id": "bpdiPMG36y-N"
      },
      "execution_count": null,
      "outputs": []
    }
  ]
}