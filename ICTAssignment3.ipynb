{
  "nbformat": 4,
  "nbformat_minor": 0,
  "metadata": {
    "colab": {
      "provenance": []
    },
    "kernelspec": {
      "name": "python3",
      "display_name": "Python 3"
    },
    "language_info": {
      "name": "python"
    }
  },
  "cells": [
    {
      "cell_type": "code",
      "execution_count": 1,
      "metadata": {
        "colab": {
          "base_uri": "https://localhost:8080/"
        },
        "id": "MJHi_SY_vs4S",
        "outputId": "52f63659-2560-4a61-a59a-bd3d8d14f600"
      },
      "outputs": [
        {
          "output_type": "stream",
          "name": "stdout",
          "text": [
            "Trial 1:  4\n",
            "Trial 2:  11\n",
            "Trial 3:  7\n"
          ]
        }
      ],
      "source": [
        "def middle_value(a, b, c):\n",
        "    return sorted([a, b, c])[1]\n",
        "\n",
        "# Testing with several inputs\n",
        "print(\"Trial 1: \", middle_value(7, 1, 4))  # Expected result: 4\n",
        "print(\"Trial 2: \", middle_value(10, 12, 11))  # Expected result: 11\n",
        "print(\"Trial 3: \", middle_value(5, 7, 9))  # Expected result: 7\n"
      ]
    },
    {
      "cell_type": "code",
      "source": [
        "# Addition\n",
        "def add(x, y):\n",
        "    return x + y\n",
        "\n",
        "# Subtraction\n",
        "def subtract(x, y):\n",
        "    return x - y\n",
        "\n",
        "# Multiplication\n",
        "def multiply(x, y):\n",
        "    return x * y\n",
        "\n",
        "# Division\n",
        "def divide(x, y):\n",
        "    if y == 0:\n",
        "        return \"Error! Division by zero.\"\n",
        "    else:\n",
        "        return x / y\n",
        "\n",
        "\n",
        "def calculator():\n",
        "    print(\"Select operation:\")\n",
        "    print(\"1. Add\")\n",
        "    print(\"2. Subtract\")\n",
        "    print(\"3. Multiply\")\n",
        "    print(\"4. Divide\")\n",
        "\n",
        "    choice = input(\"Enter choice (1/2/3/4): \")\n",
        "    if choice not in ['1', '2', '3', '4']:\n",
        "        print(\"Invalid input! Please choose a valid operation.\")\n",
        "        return\n",
        "    try:\n",
        "        num1 = float(input(\"Enter first number: \"))\n",
        "        num2 = float(input(\"Enter second number: \"))\n",
        "    except ValueError:\n",
        "        print(\"Invalid number input!\")\n",
        "        return\n",
        "    if choice == '1':\n",
        "        print(f\"{num1} + {num2} = {add(num1, num2)}\")\n",
        "    elif choice == '2':\n",
        "        print(f\"{num1} - {num2} = {subtract(num1, num2)}\")\n",
        "    elif choice == '3':\n",
        "        print(f\"{num1} * {num2} = {multiply(num1, num2)}\")\n",
        "    elif choice == '4':\n",
        "        print(f\"{num1} / {num2} = {divide(num1, num2)}\")\n",
        "\n",
        "if __name__ == \"__main__\":\n",
        "    calculator()"
      ],
      "metadata": {
        "colab": {
          "base_uri": "https://localhost:8080/"
        },
        "id": "03jxJuK2wtDL",
        "outputId": "8dc57ed2-f81f-4530-e490-4901a3f7f719"
      },
      "execution_count": 3,
      "outputs": [
        {
          "output_type": "stream",
          "name": "stdout",
          "text": [
            "Select operation:\n",
            "1. Add\n",
            "2. Subtract\n",
            "3. Multiply\n",
            "4. Divide\n",
            "Enter choice (1/2/3/4): 2\n",
            "Enter first number: 12\n",
            "Enter second number: 32\n",
            "12.0 - 32.0 = -20.0\n"
          ]
        }
      ]
    },
    {
      "cell_type": "code",
      "source": [
        "import math\n",
        "\n",
        "def get_hypotenuse(a, b):\n",
        "    return math.sqrt(a**2 + b**2)\n",
        "\n",
        "def get_user_input():\n",
        "    try:\n",
        "        a = float(input(\"Enter the length of the first side: \"))\n",
        "        b = float(input(\"Enter the length of the second side: \"))\n",
        "\n",
        "        hypotenuse = get_hypotenuse(a, b)\n",
        "        print(f\"The length of the hypotenuse is: {hypotenuse}\")\n",
        "    except ValueError:\n",
        "        print(\"Please enter numerical values for the sides.\")\n",
        "get_user_input()"
      ],
      "metadata": {
        "colab": {
          "base_uri": "https://localhost:8080/"
        },
        "id": "oB9QgnLHxBpR",
        "outputId": "6bad8fce-91c4-47f4-d619-40c69f4b3794"
      },
      "execution_count": 8,
      "outputs": [
        {
          "output_type": "stream",
          "name": "stdout",
          "text": [
            "Enter the length of the first side: 2\n",
            "Enter the length of the second side: 3\n",
            "The length of the hypotenuse is: 3.605551275463989\n"
          ]
        }
      ]
    },
    {
      "cell_type": "code",
      "source": [
        "class Rectangle:\n",
        "\n",
        "    def __init__(self, length, width):\n",
        "        self.length = length\n",
        "        self.width = width\n",
        "\n",
        "    def Perimeter(self):\n",
        "        return 2 * (self.length + self.width)\n",
        "\n",
        "    def Area(self):\n",
        "        return self.length * self.width\n",
        "\n",
        "    def display(self):\n",
        "        print(f\"Rectangle Details:\")\n",
        "        print(f\"Length: {self.length}\")\n",
        "        print(f\"Width: {self.width}\")\n",
        "        print(f\"Perimeter: {self.Perimeter()}\")\n",
        "        print(f\"Area: {self.Area()}\")\n",
        "\n",
        "def get_user_input():\n",
        "    try:\n",
        "        length = float(input(\"Enter the length of the rectangle: \"))\n",
        "        width = float(input(\"Enter the width of the rectangle: \"))\n",
        "\n",
        "        rect = Rectangle(length, width)\n",
        "\n",
        "        rect.display()\n",
        "    except ValueError:\n",
        "        print(\"Please enter valid numerical values for length and width.\")\n",
        "\n",
        "get_user_input()\n"
      ],
      "metadata": {
        "colab": {
          "base_uri": "https://localhost:8080/"
        },
        "id": "oghUfvfhyKI_",
        "outputId": "f942c3cd-1fc7-423e-b4a6-6491cbf9db65"
      },
      "execution_count": 20,
      "outputs": [
        {
          "output_type": "stream",
          "name": "stdout",
          "text": [
            "Enter the length of the rectangle: 4\n",
            "Enter the width of the rectangle: 5\n",
            "Rectangle Details:\n",
            "Length: 4.0\n",
            "Width: 5.0\n",
            "Perimeter: 18.0\n",
            "Area: 20.0\n"
          ]
        }
      ]
    },
    {
      "cell_type": "code",
      "source": [
        "class BankAccount:\n",
        "    def __init__(self, accountNumber, name, balance):\n",
        "        self.accountNumber = accountNumber\n",
        "        self.name = name\n",
        "        self.balance = balance\n",
        "\n",
        "    def Deposit(self, amount):\n",
        "        if amount > 0:\n",
        "            self.balance += amount\n",
        "            print(f\"Deposited {amount}. New balance is: {self.balance}\")\n",
        "        else:\n",
        "            print(\"Deposit amount must be greater than 0.\")\n",
        "\n",
        "    def Withdrawal(self, amount):\n",
        "        if amount <= self.balance:\n",
        "            self.balance -= amount\n",
        "            print(f\"Withdrew {amount}. New balance is: {self.balance}\")\n",
        "        else:\n",
        "            print(\"Insufficient balance for this withdrawal.\")\n",
        "\n",
        "    def bankFees(self):\n",
        "        fee = self.balance * 0.05\n",
        "        self.balance -= fee\n",
        "        print(f\"Bank fees of 5% applied: {fee}. New balance is: {self.balance}\")\n",
        "\n",
        "    def display(self):\n",
        "        print(f\"\\nAccount Details:\")\n",
        "        print(f\"Account Number: {self.accountNumber}\")\n",
        "        print(f\"Account Owner: {self.name}\")\n",
        "        print(f\"Current Balance: {self.balance}\")\n",
        "\n",
        "def main():\n",
        "    account = BankAccount(123456789, \"Ajmal\", 100.00)\n",
        "\n",
        "    account.display()\n",
        "\n",
        "    account.Deposit(50)\n",
        "\n",
        "    account.Withdrawal(20)\n",
        "\n",
        "    account.bankFees()\n",
        "\n",
        "    account.display()\n",
        "\n",
        "if __name__ == \"__main__\":\n",
        "    main()\n"
      ],
      "metadata": {
        "colab": {
          "base_uri": "https://localhost:8080/"
        },
        "id": "jWLaq1XVA4dZ",
        "outputId": "b62e4ccf-a347-476f-e8a6-128769247767"
      },
      "execution_count": 22,
      "outputs": [
        {
          "output_type": "stream",
          "name": "stdout",
          "text": [
            "\n",
            "Account Details:\n",
            "Account Number: 123456789\n",
            "Account Owner: Ajmal\n",
            "Current Balance: 100.0\n",
            "Deposited 50. New balance is: 150.0\n",
            "Withdrew 20. New balance is: 130.0\n",
            "Bank fees of 5% applied: 6.5. New balance is: 123.5\n",
            "\n",
            "Account Details:\n",
            "Account Number: 123456789\n",
            "Account Owner: Ajmal\n",
            "Current Balance: 123.5\n"
          ]
        }
      ]
    },
    {
      "cell_type": "code",
      "source": [],
      "metadata": {
        "id": "NdiycOHDDIez"
      },
      "execution_count": null,
      "outputs": []
    }
  ]
}